{
 "cells": [
  {
   "cell_type": "markdown",
   "metadata": {},
   "source": [
    "# MAT 221 Calculus I\n",
    "\n",
    "## April 9, 2020\n",
    "\n",
    "Today's Agenda:\n",
    "1. Continuous Function\n",
    "2. Intermediate Value Theorem\n",
    "3. Exercises"
   ]
  },
  {
   "cell_type": "markdown",
   "metadata": {},
   "source": [
    "# Implicit Differentiation"
   ]
  },
  {
   "cell_type": "markdown",
   "metadata": {},
   "source": [
    "An explicit function is of the form that should be the most familiar, such as:\n",
    "\n",
    "$$ f(x) = x^2 + 3 $$\n",
    "$$ y = \\sin{x} $$\n",
    "\n",
    "Whereas an *implicit function* defines an algebraic relationship between variables. These functions have a form similar to the following:\n",
    "\n",
    "$$ x^2 + y^2 = 25 $$\n",
    "$$ y^5 + xy = 3 $$"
   ]
  },
  {
   "cell_type": "markdown",
   "metadata": {},
   "source": [
    "In these examples and the following exercises, it is assumed $y$ is implicitly defined and is a differentiable function of $x$."
   ]
  },
  {
   "cell_type": "markdown",
   "metadata": {},
   "source": [
    "Luckily, implicitly defined equations do not need to be solved for $y$ in terms of $x$ (or any other variable) to calculate the derivative of the function. We can employ *implicit differentiation* to find the deriatives of implicitly defined equations.\n",
    "\n",
    "Implicit differentiation is performed by differentiating both sides of the equation with respect to $x$ and then solving for the resulting equation for the derivative of $y$."
   ]
  },
  {
   "cell_type": "markdown",
   "metadata": {},
   "source": [
    "As an example, consider the function $y^3 + x^3 = 1$. We can apply implicit differentiation to this equation to find its deriative. Begin by differentiating both sides of the equation with respect to $x$.\n",
    "\n",
    "$$ \\frac{d}{dx} (y^3 + x^3) = \\frac{d}{dx} (1) $$\n",
    "\n",
    "$$ \\frac{d}{dx} (y^3) + \\frac{d}{dx} (x^3) = 0 $$\n",
    "\n",
    "Remembering that $y$ is implicitly defined as a function of $x$, we apply the Chain Rule for finding the derivative of $y^3$. \n",
    "\n",
    "$$ 3y^2 \\frac{dy}{dx} + 3x^2 = 0 $$\n",
    "\n",
    "Then, solving for $\\frac{dy}{dx}$:\n",
    "\n",
    "$$ 3y^2 \\frac{dy}{dx} = -3x^2 $$\n",
    "\n",
    "$$ \\frac{dy}{dx} = -\\frac{3x^2}{3y^2} = -\\frac{x^2}{y^2} $$"
   ]
  },
  {
   "cell_type": "markdown",
   "metadata": {},
   "source": [
    "When dealing with more complex equations that feature more terms, it can be helpful to use Newton notation such as $y^\\prime$ to help keep the intermediate calculations easier to read.\n",
    "\n",
    "We can confirm our result by using the [SymPy package](http://docs.sympy.org/latest/index.html) as before. Import the needed functions and set $x$ and $y$ as variables to be recognized by SymPy."
   ]
  },
  {
   "cell_type": "code",
   "execution_count": 2,
   "metadata": {},
   "outputs": [],
   "source": [
    "from sympy import symbols, idiff, sin, cos, tan, sqrt, init_printing, plot_implicit\n",
    "\n",
    "init_printing()\n",
    "x = symbols('x')\n",
    "y = symbols('y')"
   ]
  },
  {
   "cell_type": "markdown",
   "metadata": {},
   "source": [
    "As we are finding the derivatives of implicitly defined functions, we use the `idiff` function rather than `diff` as seen in previous examples."
   ]
  },
  {
   "cell_type": "code",
   "execution_count": 3,
   "metadata": {},
   "outputs": [
    {
     "data": {
      "image/png": "[encoded data removed]",
      "text/latex": [
       "$\\displaystyle - \\frac{x^{2}}{y^{2}}$"
      ],
      "text/plain": [
       "  2 \n",
       "-x  \n",
       "────\n",
       "  2 \n",
       " y  "
      ]
     },
     "execution_count": 3,
     "metadata": {},
     "output_type": "execute_result"
    }
   ],
   "source": [
    "idiff(y ** 3 + x ** 3 - 1, y, x)"
   ]
  },
  {
   "cell_type": "markdown",
   "metadata": {},
   "source": [
    "## Examples"
   ]
  },
  {
   "cell_type": "markdown",
   "metadata": {},
   "source": [
    "### Example 1: Find the derivative of the implicit function $x^2 + xy - y^2 + 4$."
   ]
  },
  {
   "cell_type": "markdown",
   "metadata": {},
   "source": [
    "We begin by taking the derivative of both sides of the equation after subtracting $4$ from both sides."
   ]
  },
  {
   "cell_type": "markdown",
   "metadata": {},
   "source": [
    "$$ \\frac{d}{dx} (x^2 + xy - y^2) = \\frac{d}{dx} (-4) $$"
   ]
  },
  {
   "cell_type": "markdown",
   "metadata": {},
   "source": [
    "Then taking each derivative in turn:\n",
    "\n",
    "$$ \\frac{d}{dx} (x^2) + \\frac{d}{dx} (xy) - \\frac{d}{dx} (y^2) = 0 $$"
   ]
  },
  {
   "cell_type": "markdown",
   "metadata": {},
   "source": [
    "Remembering that $y$ is implicitly defined as a function of $x$, we apply the Product Rule when finding the derivative $\\frac{d}{dx} (xy)$.\n",
    "\n",
    "$$ y \\frac{dx}{dy} x + x \\frac{dy}{dx} = yx^\\prime + y^\\prime x $$ "
   ]
  },
  {
   "cell_type": "markdown",
   "metadata": {},
   "source": [
    "Finding the remaining derivatives of the function:\n",
    "\n",
    "$$ 2x + yx^\\prime + y^\\prime x - 2yy^\\prime = 0 $$\n",
    "\n",
    "The derivative of $x$ is $1$. The derivative $\\frac{d}{dx}$ is found using the Chain Rule:\n",
    "\n",
    "$$ \\frac{d}{dx} (y^2) = \\frac{d}{dy} (y^2) \\frac{dy}{dx} = 2y \\frac{dy}{dx} = 2yy^\\prime $$"
   ]
  },
  {
   "cell_type": "markdown",
   "metadata": {},
   "source": [
    "Finish finding the derivative of the equation:\n",
    "\n",
    "$$ 2x + y + y^\\prime x - 2yy^\\prime = 0 $$\n",
    "\n",
    "Isolate $y^\\prime$ to one side by subtracting $2x + y$ from both sides.\n",
    "\n",
    "$$ y^\\prime x - 2y y^\\prime = -2x - y $$\n",
    "\n",
    "Factor $y^\\prime$ on the left side:\n",
    "\n",
    "$$ y^\\prime (2y - x) = -2x - y $$\n",
    "\n",
    "Divide both sides by $x - 2y$.\n",
    "\n",
    "$$ y^\\prime = \\frac{dy}{dx} = - \\frac{2x - y}{x - 2y} $$"
   ]
  },
  {
   "cell_type": "markdown",
   "metadata": {},
   "source": [
    "Check our answer using SymPy:"
   ]
  },
  {
   "cell_type": "code",
   "execution_count": 4,
   "metadata": {},
   "outputs": [
    {
     "data": {
      "image/png": "[encoded data removed]",
      "text/latex": [
       "$\\displaystyle - \\frac{2 x + y}{x - 2 y}$"
      ],
      "text/plain": [
       "-(2⋅x + y) \n",
       "───────────\n",
       "  x - 2⋅y  "
      ]
     },
     "execution_count": 4,
     "metadata": {},
     "output_type": "execute_result"
    }
   ],
   "source": [
    "idiff(x ** 2 + x * y - y ** 2 + 4, y, x)"
   ]
  },
  {
   "cell_type": "markdown",
   "metadata": {},
   "source": [
    "For those interested, the implicit equations and their derivatives can be plotted easily using SymPy's [`plot_implicit()`](http://docs.sympy.org/latest/modules/plotting.html) function."
   ]
  },
  {
   "cell_type": "code",
   "execution_count": 5,
   "metadata": {},
   "outputs": [
    {
     "data": {
      "image/png": "[encoded data removed]",
      "text/plain": [
       "<Figure size 432x288 with 1 Axes>"
      ]
     },
     "metadata": {
      "needs_background": "light"
     },
     "output_type": "display_data"
    },
    {
     "data": {
      "image/png": "[encoded data removed]",
      "text/plain": [
       "<Figure size 432x288 with 1 Axes>"
      ]
     },
     "metadata": {
      "needs_background": "light"
     },
     "output_type": "display_data"
    },
    {
     "data": {
      "text/plain": [
       "<sympy.plotting.plot.Plot at 0xb5db388>"
      ]
     },
     "execution_count": 5,
     "metadata": {},
     "output_type": "execute_result"
    }
   ],
   "source": [
    "plot_implicit(x ** 2 + x * y - y ** 2 + 4, title = 'graph of $x^2 + xy - y^2 + 4$')\n",
    "plot_implicit(-(2 * x + y) / (x - 2 * y))"
   ]
  },
  {
   "cell_type": "markdown",
   "metadata": {},
   "source": [
    "### Example 2: Find the derivative of the implicit equation $x^4 (x + y) = y^2 (3x - y)$"
   ]
  },
  {
   "cell_type": "markdown",
   "metadata": {},
   "source": [
    "Focus on the left-hand side of the equation for now. Differentiate both sides of the equation and apply the Product Rule to the left-hand side.\n",
    "\n",
    "$$ x^4 \\frac{d}{dx} (x + y) + (x + y) \\frac{d}{dx} x^4 = \\frac{d}{dx} (y^2 (3x - y)) $$\n",
    "\n",
    "$$ x^4 \\frac{d}{dx} (x) + \\frac{d}{dx} (y) + (x + y) \\frac{d}{dx} x^4 = \\frac{d}{dx} (y^2 (3x - y)) $$"
   ]
  },
  {
   "cell_type": "markdown",
   "metadata": {},
   "source": [
    "Calculate the derivatives on the left-hand side of the equation:\n",
    "\n",
    "$$ x^4(1 + y^\\prime) + 4x^3(x + y) = y^2 \\frac{d}{dx}(3x - y) + (3x - y) \\frac{d}{dx} y^2 $$"
   ]
  },
  {
   "cell_type": "markdown",
   "metadata": {},
   "source": [
    "Shift focus to the right-hand side of the equation:\n",
    "\n",
    "$$ y^2 (\\frac{d}{dx} 3x - \\frac{d}{dx} y) + (3x - y) \\frac{d}{dx} y^2 $$\n",
    "$$ = y^2(3 - y^\\prime) + 2yy^\\prime (3x - y) $$\n",
    "\n",
    "Thus, we now have:\n",
    "\n",
    "$$ x^4(1 + y^\\prime) + 4x^3 (x + y) = y^2(3 - y^\\prime) + 2yy^\\prime (3x - y) $$"
   ]
  },
  {
   "cell_type": "markdown",
   "metadata": {},
   "source": [
    "Expand and clean up the terms:\n",
    "\n",
    "$$ x^4 + x^4 y^\\prime + 4x^4 + 4x^3 y = 3y^2 - y^2 y^\\prime + 6xyy^\\prime - 2y^2 y^\\prime $$\n",
    "\n",
    "$$ 5x^4 + x^4 y^\\prime + 4x^3 y = 3y^2 + 6xyy^\\prime - 3y^2 y^\\prime $$"
   ]
  },
  {
   "cell_type": "markdown",
   "metadata": {},
   "source": [
    "We then want to isolate $y^\\prime$ to one side of the equation.\n",
    "\n",
    "$$ 5x^4 + x^4 y^\\prime + 4x^3 y - 6xyy^\\prime + 3y^2 y^\\prime = 3y^2 $$\n",
    "\n",
    "$$ x^4 y^\\prime - 6xyy^\\prime + 3y^2 y^\\prime = 3y^2 - 5x^4 - 4x^3 y $$"
   ]
  },
  {
   "cell_type": "markdown",
   "metadata": {},
   "source": [
    "Finish calculating the derivative by factoring $y^\\prime$ on the left-hand side of the equation and dividing:\n",
    "\n",
    "$$ y^\\prime (x^4 - 6xy + 3y^2) = 3y^2 - 5x^4 - 4x^3 y $$\n",
    "\n",
    "$$ y^\\prime = \\frac{3y^2 - 5x^4 - 4x^3 y}{x^4 - 6xy + 3y^2} $$"
   ]
  },
  {
   "cell_type": "markdown",
   "metadata": {},
   "source": [
    "Using SymPy as before, we can verify our answer is correct."
   ]
  },
  {
   "cell_type": "code",
   "execution_count": 6,
   "metadata": {},
   "outputs": [
    {
     "data": {
      "image/png": "[encoded data removed]",
      "text/latex": [
       "$\\displaystyle \\frac{- 5 x^{4} - 4 x^{3} y + 3 y^{2}}{x^{4} - 6 x y + 3 y^{2}}$"
      ],
      "text/plain": [
       "     4      3        2\n",
       "- 5⋅x  - 4⋅x ⋅y + 3⋅y \n",
       "──────────────────────\n",
       "   4              2   \n",
       "  x  - 6⋅x⋅y + 3⋅y    "
      ]
     },
     "execution_count": 6,
     "metadata": {},
     "output_type": "execute_result"
    }
   ],
   "source": [
    "idiff(x ** 4 * (x + y) - y ** 2 * (3 * x - y), y, x)"
   ]
  },
  {
   "cell_type": "markdown",
   "metadata": {},
   "source": [
    "Also, for fun, we can plot the implicit function and its derivative as we did previously. Implicit functions, such as the one we just worked with, often make very appealing curves and graphs. For example, the previous implicit equation makes a unique bowtie like shape when plotted."
   ]
  },
  {
   "cell_type": "code",
   "execution_count": 7,
   "metadata": {},
   "outputs": [
    {
     "data": {
      "image/png": "[encoded data removed]",
      "text/plain": [
       "<Figure size 432x288 with 1 Axes>"
      ]
     },
     "metadata": {
      "needs_background": "light"
     },
     "output_type": "display_data"
    },
    {
     "data": {
      "text/plain": [
       "<sympy.plotting.plot.Plot at 0xb697888>"
      ]
     },
     "execution_count": 7,
     "metadata": {},
     "output_type": "execute_result"
    }
   ],
   "source": [
    "plot_implicit(x ** 4 * (x + y) - y ** 2 * (3 * x - y))"
   ]
  },
  {
   "cell_type": "markdown",
   "metadata": {},
   "source": [
    "The derivative of the equation can be plotted similarly."
   ]
  },
  {
   "cell_type": "code",
   "execution_count": 37,
   "metadata": {},
   "outputs": [
    {
     "data": {
      "image/png": "[encoded data removed]",
      "text/plain": [
       "<matplotlib.figure.Figure at 0x110f4cc88>"
      ]
     },
     "metadata": {},
     "output_type": "display_data"
    },
    {
     "data": {
      "text/plain": [
       "<sympy.plotting.plot.Plot at 0x110b62390>"
      ]
     },
     "execution_count": 37,
     "metadata": {},
     "output_type": "execute_result"
    }
   ],
   "source": [
    "plot_implicit((-5 * x ** 5 - 4 * x ** 3 * y + 3 * y ** 2) / (x ** 4 - 6 * x * y + 3 * y ** 2))"
   ]
  },
  {
   "cell_type": "markdown",
   "metadata": {},
   "source": [
    "### Example 3: Derivative of the equation $4 \\cos{x} \\space \\sin{y} = 1$"
   ]
  },
  {
   "cell_type": "markdown",
   "metadata": {},
   "source": [
    "Plotting the implicit equation $4 \\cos{x} \\space \\sin{y} = 1$ reveals a rather unique and interesting graph."
   ]
  },
  {
   "cell_type": "code",
   "execution_count": 8,
   "metadata": {},
   "outputs": [
    {
     "data": {
      "image/png": "[encoded data removed]",
      "text/plain": [
       "<Figure size 432x288 with 1 Axes>"
      ]
     },
     "metadata": {
      "needs_background": "light"
     },
     "output_type": "display_data"
    },
    {
     "data": {
      "text/plain": [
       "<sympy.plotting.plot.Plot at 0xb897348>"
      ]
     },
     "execution_count": 8,
     "metadata": {},
     "output_type": "execute_result"
    }
   ],
   "source": [
    "plot_implicit(4 * cos(x) * sin(y) - 1, (x, -10, 10), (y, -10, 10))"
   ]
  },
  {
   "cell_type": "markdown",
   "metadata": {},
   "source": [
    "The derivative of the implicit equation can be found as in the previous examples. Start by differentiating both sides of the equation:\n",
    "\n",
    "$$ 4 (\\cos{x} \\frac{d}{dx} \\sin{y} + \\sin{y} \\frac{d}{dx} \\cos{x}) = \\frac{d}{dx} \\space 1 $$"
   ]
  },
  {
   "cell_type": "markdown",
   "metadata": {},
   "source": [
    "Then we calculate each derivative in turn, recalling that $y$ is implicitly defined as a function of $x$ and thus need to apply the Chain Rule to find the deriviative $\\frac{d}{dx} \\sin{y}$.\n",
    "\n",
    "$$ 4(\\cos{x} \\space y^\\prime \\cos{y} - \\sin{y} \\space \\sin{x}) = 0 $$"
   ]
  },
  {
   "cell_type": "markdown",
   "metadata": {},
   "source": [
    "Expanding the terms:\n",
    "\n",
    "$$ 4 \\cos{x} \\space y^\\prime \\cos{y} - 4 \\sin{y} \\space \\sin{x} = 0 $$"
   ]
  },
  {
   "cell_type": "markdown",
   "metadata": {},
   "source": [
    "Isolate $y^\\prime$ to one side of the equation."
   ]
  },
  {
   "cell_type": "markdown",
   "metadata": {},
   "source": [
    "$$ 4 y^\\prime \\cos{x} \\space \\cos{y} = 4 \\sin{y} \\sin{x} $$\n",
    "\n",
    "$$ \\frac{dy}{dx} = \\frac{4 \\sin{y} \\sin{x}}{4 \\cos{x} \\space \\cos{y}} $$"
   ]
  },
  {
   "cell_type": "markdown",
   "metadata": {},
   "source": [
    "The derivative can be simplified further knowing that $\\tan{x} = \\frac{\\sin{x}}{\\cos{x}}$"
   ]
  },
  {
   "cell_type": "markdown",
   "metadata": {},
   "source": [
    "$$ \\frac{dy}{dx} = \\tan{x} \\tan{y} $$"
   ]
  },
  {
   "cell_type": "markdown",
   "metadata": {},
   "source": [
    "Confirm our derivative is correct by checking against SymPy."
   ]
  },
  {
   "cell_type": "code",
   "execution_count": 47,
   "metadata": {},
   "outputs": [
    {
     "data": {
      "image/png": "[encoded data removed]",
      "text/latex": [
       "$$\\tan{\\left (x \\right )} \\tan{\\left (y \\right )}$$"
      ],
      "text/plain": [
       "tan(x)⋅tan(y)"
      ]
     },
     "execution_count": 47,
     "metadata": {},
     "output_type": "execute_result"
    }
   ],
   "source": [
    "idiff(4 * cos(x) * sin(y) - 1, y, x)"
   ]
  },
  {
   "cell_type": "markdown",
   "metadata": {},
   "source": [
    "The derivative of the implicit equation also makes for an interesting graph and creates a grid-like appearance."
   ]
  },
  {
   "cell_type": "code",
   "execution_count": 9,
   "metadata": {},
   "outputs": [
    {
     "data": {
      "image/png": "[encoded data removed]",
      "text/plain": [
       "<Figure size 432x288 with 1 Axes>"
      ]
     },
     "metadata": {
      "needs_background": "light"
     },
     "output_type": "display_data"
    },
    {
     "data": {
      "text/plain": [
       "<sympy.plotting.plot.Plot at 0xb6c13c8>"
      ]
     },
     "execution_count": 9,
     "metadata": {},
     "output_type": "execute_result"
    }
   ],
   "source": [
    "plot_implicit(tan(x) * tan(y), (x, -10, 10), (y, -10, 10))"
   ]
  },
  {
   "cell_type": "markdown",
   "metadata": {},
   "source": [
    "## References"
   ]
  },
  {
   "cell_type": "markdown",
   "metadata": {},
   "source": [
    "Stewart, J. (2007). Essential calculus: Early transcendentals. Belmont, CA: Thomson Higher Education.\n",
    "\n",
    "Strang, G. (2010). Calculus. Wellesley, MA: Wellesley-Cambridge.\n",
    "\n",
    "Weisstein, Eric W. \"Implicit Function.\" From MathWorld--A Wolfram Web Resource. http://mathworld.wolfram.com/ImplicitFunction.html"
   ]
  }
 ],
 "metadata": {
  "kernelspec": {
   "display_name": "Python 3",
   "language": "python",
   "name": "python3"
  },
  "language_info": {
   "codemirror_mode": {
    "name": "ipython",
    "version": 3
   },
   "file_extension": ".py",
   "mimetype": "text/x-python",
   "name": "python",
   "nbconvert_exporter": "python",
   "pygments_lexer": "ipython3",
   "version": "3.7.7"
  }
 },
 "nbformat": 4,
 "nbformat_minor": 2
}
