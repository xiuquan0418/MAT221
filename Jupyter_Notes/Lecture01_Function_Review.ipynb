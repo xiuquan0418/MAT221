{
 "cells": [
  {
   "cell_type": "markdown",
   "metadata": {},
   "source": [
    "# MAT 221 Calculus I\n",
    "\n",
    "## April 9, 2020\n",
    "\n",
    "Today's Agenda:\n",
    "1. Finding The Domain of a Function\n",
    "* Some Functions\n",
    "  * Linear Functions\n",
    "  * Power Functions\n",
    "2. Exercises"
   ]
  },
  {
   "cell_type": "markdown",
   "metadata": {},
   "source": [
    "## Finding The Domain of a Function"
   ]
  },
  {
   "cell_type": "markdown",
   "metadata": {},
   "source": [
    "### Definitions:\n",
    " * **Function:** A function $f$ is a rule that assigns to each element $x$ in the set $A$ exactly one element, called $f(x)$, in the set $B$. The set $A$ is called the domain and the set $B$ is called the range.\n",
    " * **Domain:** The domain of a function is the set of all real numbers for which the expression is defined as a real number. In other words, it is all the real numbers for which the expression \"makes sense\"."
   ]
  },
  {
   "cell_type": "markdown",
   "metadata": {},
   "source": [
    "### Important Properties:\n",
    "* Remember that you cannot have a zero in the denominator.\n",
    "* Remember that you cannot have a negative number under an even root.\n",
    "* Remember that we can evaluate an odd root of a negative number."
   ]
  },
  {
   "cell_type": "markdown",
   "metadata": {},
   "source": [
    "### Examples:"
   ]
  },
  {
   "cell_type": "markdown",
   "metadata": {},
   "source": [
    "**Problem 1:** $$h(x)=\\frac{x^{3}}{x^{2}+2x-3}$$ <br>"
   ]
  },
  {
   "cell_type": "markdown",
   "metadata": {},
   "source": [
    "**Problem 2:** $$f(x)=\\sqrt{6-4x}$$ <br>"
   ]
  },
  {
   "cell_type": "markdown",
   "metadata": {},
   "source": [
    "## Some Functions"
   ]
  },
  {
   "cell_type": "markdown",
   "metadata": {},
   "source": [
    "### Linear Functions"
   ]
  },
  {
   "cell_type": "markdown",
   "metadata": {},
   "source": [
    "#### Definition: A linear function has the form: <br>\n",
    "$$f(x)=mx+b, \\ \\ \\ m \\text{ and } b \\text{ are constant}$$\n",
    "Where \n",
    "\\begin{align}\n",
    "m &= \\text{slope of graph of $f$} \\\\\n",
    "b &= \\text{y-intercept of graph of $f$}\n",
    "\\end{align}\n",
    "**Graph of $f(x)$:** <br>\n",
    "<img src=\"images/Linear_Function_Definition.png\" alt=\"Drawing\" style=\"width: 400px;\"/> <br>\n",
    "**Example 1:** $f(x)=2x+1$ <br>\n",
    "<img src=\"images/Linear_Function_Example_1.png\" alt=\"Drawing\" style=\"width: 300px;\"/> <br>"
   ]
  },
  {
   "cell_type": "markdown",
   "metadata": {},
   "source": [
    "**Point-Slope Equation of a Line** <br>\n",
    "<img src=\"images/Point_Slope_Equation.png\" alt=\"Drawing\" style=\"width: 600px;\"/> <br>\n",
    "**Example 2:** Find the equation of the line that passes through the points $(0, 2)$ and $(2, 3)$ <br>\n",
    "$$y-y_{1}=m(x-x_{1}), \\ \\ \\ \\ \\ (x_{1}=0, y_{1}=2), \\text{ and } (x_{2}=2, y_{2}=3)$$ <br>\n",
    "1. $m=\\frac{y_{2}-y_{1}}{x_{2}-x_{1}}=\\frac{3-2}{2-0}=\\frac{1}{2}$\n",
    "* $(x_{1}, y_{1})=(0, 2)$\n",
    "* $y-2=\\frac{1}{2}(x-0) \\Rightarrow y=\\frac{1}{2}x+2$"
   ]
  },
  {
   "cell_type": "markdown",
   "metadata": {},
   "source": [
    "**Properties of a Line**\n",
    "* **Slope of Positive, Negative, Zero and Undefined** <br>\n",
    "<img src=\"images/Slope_Positive_Negative_Zero_Undef.png\" alt=\"Drawing\" style=\"width: 800px;\"/> <br>\n",
    "* **Parallel Lines** <br>\n",
    "<img src=\"images/Slope_Parallel.png\" alt=\"Drawing\" style=\"width: 500px;\"/> <br>\n",
    "* **Perpendicular Lines** <br>\n",
    "<img src=\"images/Slope_Perpendicular.png\" alt=\"Drawing\" style=\"width: 500px;\"/> <br>"
   ]
  },
  {
   "cell_type": "markdown",
   "metadata": {},
   "source": [
    "### Power Functons"
   ]
  },
  {
   "cell_type": "markdown",
   "metadata": {},
   "source": [
    "#### Definition: A power function has the form: <br>\n",
    "$$f(x)=kx^{r}, \\ \\ \\ k \\text{ and } r \\text{ are constants}$$\n",
    "Note: $r$ can be any real number. <br>\n",
    "**Examples:** $f(x)=\\frac{1}{3}x^{\\pi}, \\ \\ \\ f(x)=\\sqrt{2}x^{-1}, \\ \\ \\ f(x)=x^{\\frac{3}{5}}，\\ \\ \\ f(x)=2x^{3}$ \n"
   ]
  },
  {
   "cell_type": "markdown",
   "metadata": {},
   "source": [
    "#### The Graphs of Power Functions:"
   ]
  },
  {
   "cell_type": "markdown",
   "metadata": {},
   "source": [
    "* **$r=$ Odd or Even Positive Integer**\n",
    "<img src=\"images/Power_Function_Odd_or_Even_Positive_Integer.png\" alt=\"Drawing\" style=\"width: 500px;\"/>\n",
    "* **$r=0, 1, -1$**\n",
    "<img src=\"images/Power_Function_Zero_One_Negative_One.png\" alt=\"Drawing\" style=\"width: 600px;\"/>\n",
    "* **$r=$ Odd or Even Negative Integer (including $r=-1$)**\n",
    "<img src=\"images/Power_Function_Odd_or_Even_Negative_Integer.png\" alt=\"Drawing\" style=\"width: 500px;\"/>\n",
    "* **$r=$ Positive Fractions**\n",
    "<img src=\"images/Power_Function_Positive_Fractions.png\" alt=\"Drawing\" style=\"width: 500px;\"/>"
   ]
  },
  {
   "cell_type": "markdown",
   "metadata": {},
   "source": [
    "## Exercises"
   ]
  },
  {
   "cell_type": "code",
   "execution_count": null,
   "metadata": {},
   "outputs": [],
   "source": []
  }
 ],
 "metadata": {
  "kernelspec": {
   "display_name": "Python 3",
   "language": "python",
   "name": "python3"
  },
  "language_info": {
   "codemirror_mode": {
    "name": "ipython",
    "version": 3
   },
   "file_extension": ".py",
   "mimetype": "text/x-python",
   "name": "python",
   "nbconvert_exporter": "python",
   "pygments_lexer": "ipython3",
   "version": "3.7.7"
  }
 },
 "nbformat": 4,
 "nbformat_minor": 4
}
