{
 "cells": [
  {
   "cell_type": "markdown",
   "metadata": {},
   "source": [
    "# MAT 221 Calculus I\n",
    "\n",
    "## April 9, 2020\n",
    "\n",
    "Today's Agenda:\n",
    "1. Terninology\n",
    "2. Local and Global Extrema\n",
    "3. Exercises"
   ]
  },
  {
   "cell_type": "markdown",
   "metadata": {},
   "source": [
    "## Terninology"
   ]
  },
  {
   "cell_type": "markdown",
   "metadata": {},
   "source": [
    "<img src=\"Graph/Local_Global_Extrema.png\" alt=\"Drawing\" style=\"width:100%\"/>"
   ]
  },
  {
   "cell_type": "markdown",
   "metadata": {},
   "source": [
    "<div class=\"row\">\n",
    "  <div class=\"column\">\n",
    "    <img src=\"Graph/Local_Global_Extrema.png\" alt=\"Drawing\" style=\"width:50%\"/>\n",
    "  </div>\n",
    "  <div class=\"column\">\n",
    "    <img src=\"Graph/Local_Global_Extrema.png\" alt=\"Forest\" style=\"width:50%\"/>\n",
    "  </div>\n",
    "</div>"
   ]
  },
  {
   "cell_type": "markdown",
   "metadata": {},
   "source": [
    "<div class=\"image123\">\n",
    "    <div class=\"imgContainer\">\n",
    "        <img src=\"Graph/Local_Global_Extrema.png\" height=\"200\" width=\"200\"/>\n",
    "        <p>This is image 1</p>\n",
    "    </div>\n",
    "    <div class=\"imgContainer\">\n",
    "        <img class=\"middle-img\" src=\"Graph/Local_Global_Extrema.png\"/ height=\"200\" width=\"200\"/>\n",
    "        <p>This is image 2</p>\n",
    "    </div>\n",
    "    <div class=\"imgContainer\">\n",
    "         <img src=\"Graph/Local_Global_Extrema.png\"/ height=\"200\" width=\"200\"/>\n",
    "        <p>This is image 3</p>\n",
    "    </div>\n",
    "</div>"
   ]
  },
  {
   "cell_type": "markdown",
   "metadata": {},
   "source": [
    "<div class=\"image123\">\n",
    "    <div style=\"float:left;margin-right:5px;\">\n",
    "        <img src=\"Graph/Local_Global_Extrema.png\" alt=\"Drawing\" style=\"width:30%\"/>\n",
    "        <p style=\"text-align:center;\">This is image 1</p>\n",
    "    </div>\n",
    "    <div style=\"float:left;margin-right:5px;\">\n",
    "        <img class=\"middle-img\" src=\"Graph/Local_Global_Extrema.png\" alt=\"Drawing\" style=\"width:30%\"/>\n",
    "        <p style=\"text-align:center;\">This is image 2</p>\n",
    "    </div>\n",
    "    <div style=\"float:left;margin-right:5px;\">\n",
    "        <img src=\"Graph/Local_Global_Extrema.png\" alt=\"Drawing\" style=\"width:30%\"/>\n",
    "        <p style=\"text-align:center;\">This is image 3</p>\n",
    "    </div>\n",
    "</div>"
   ]
  },
  {
   "cell_type": "markdown",
   "metadata": {},
   "source": [
    "\n",
    "<div class=\"row\">\n",
    "  <div class=\"column\">\n",
    "    <img src=\"Graph/Local_Global_Extrema.png\" alt=\"Snow\" style=\"width:40%\">\n",
    "  </div>\n",
    "  <div class=\"column\">\n",
    "    <img src=\"Graph/Local_Global_Extrema.png\" alt=\"Forest\" style=\"width:40%\">\n",
    "  </div>\n",
    "  <div class=\"column\">\n",
    "    <img src=\"Graph/Local_Global_Extrema.png\" alt=\"Mountains\" style=\"width:40%\">\n",
    "  </div>\n",
    "</div>\n",
    "\n",
    "</body>\n",
    "</html>\n"
   ]
  },
  {
   "cell_type": "code",
   "execution_count": null,
   "metadata": {},
   "outputs": [],
   "source": []
  }
 ],
 "metadata": {
  "kernelspec": {
   "display_name": "Python 3",
   "language": "python",
   "name": "python3"
  },
  "language_info": {
   "codemirror_mode": {
    "name": "ipython",
    "version": 3
   },
   "file_extension": ".py",
   "mimetype": "text/x-python",
   "name": "python",
   "nbconvert_exporter": "python",
   "pygments_lexer": "ipython3",
   "version": "3.7.7"
  }
 },
 "nbformat": 4,
 "nbformat_minor": 4
}
