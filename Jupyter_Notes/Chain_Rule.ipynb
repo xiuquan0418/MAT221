{
 "cells": [
  {
   "cell_type": "markdown",
   "metadata": {},
   "source": [
    "# MAT 221 Calculus I\n",
    "\n",
    "## April 9, 2020\n",
    "\n",
    "Today's Agenda:\n",
    "1. The Chain Rule\n",
    "2. Intermediate Value Theorem\n",
    "3. Exercises"
   ]
  },
  {
   "cell_type": "markdown",
   "metadata": {},
   "source": [
    "# The Chain Rule"
   ]
  },
  {
   "cell_type": "markdown",
   "metadata": {},
   "source": [
    "The chain rule is a powerful and useful derivation technique that allows the derivation of functions that would not be straightforward or possible with the only the previously discussed rules at our disposal. The rule takes advantage of the \"compositeness\" of a function. For example, consider the function:"
   ]
  },
  {
   "cell_type": "markdown",
   "metadata": {},
   "source": [
    "$$ f(x) = \\sin{(4x)} $$"
   ]
  },
  {
   "cell_type": "markdown",
   "metadata": {},
   "source": [
    "This function can be broken into a composite function $f \\circ g$ by observing that:"
   ]
  },
  {
   "cell_type": "markdown",
   "metadata": {},
   "source": [
    "$$ y = f(u) = \\sin{u} \\ \\ \\ \\space \\text{and} \\ \\ \\ \\space u = g(x) = 4x $$"
   ]
  },
  {
   "cell_type": "markdown",
   "metadata": {},
   "source": [
    "Therefore we can reinterpret the original function as:"
   ]
  },
  {
   "cell_type": "markdown",
   "metadata": {},
   "source": [
    "$$ F(x) = f(g(x)), \\space \\text{or} \\space F = f \\circ g $$"
   ]
  },
  {
   "cell_type": "markdown",
   "metadata": {},
   "source": [
    "The chain rule gives us the ability the find the derivatives of $f$ and $g$ using the tools we previously discussed. We can state the chain rule more precisely as:"
   ]
  },
  {
   "cell_type": "markdown",
   "metadata": {},
   "source": [
    "Assuming $g$ is differentiable at $x$ and the derivative of $f(g(x))$ exists, then we can state the composite function $F = f \\circ g$ as $F(x) = f(g(x))$ and $F^\\prime$ is given by:"
   ]
  },
  {
   "cell_type": "markdown",
   "metadata": {},
   "source": [
    "$$ F^\\prime (x) = f^\\prime (g(x)) \\circ g^\\prime(x) $$"
   ]
  },
  {
   "cell_type": "markdown",
   "metadata": {},
   "source": [
    "In Leibniz notation, assuming $y = f(u)$ and $u = g(x)$ have derivatives, the chain rule can be expressed as:"
   ]
  },
  {
   "cell_type": "markdown",
   "metadata": {},
   "source": [
    "$$ \\frac{dy}{dx} = \\frac{dy}{du} \\space \\frac{du}{dx} $$"
   ]
  },
  {
   "cell_type": "markdown",
   "metadata": {},
   "source": [
    "With the chain rule, we can now find the derivative of the function $f(x) = \\sin{4x}$."
   ]
  },
  {
   "cell_type": "markdown",
   "metadata": {},
   "source": [
    "$$ u = 4x, \\qquad y = \\sin{u} $$"
   ]
  },
  {
   "cell_type": "markdown",
   "metadata": {},
   "source": [
    "$$ \\frac{du}{dx} = 4, \\qquad \\frac{dy}{du} = \\cos{u} $$"
   ]
  },
  {
   "cell_type": "markdown",
   "metadata": {},
   "source": [
    "$$ \\frac{dy}{dx} = \\frac{dy}{du} \\space \\frac{du}{dx} = 4 \\cos{(u)} = 4 \\cos{(4x)} $$"
   ]
  },
  {
   "cell_type": "markdown",
   "metadata": {},
   "source": [
    "We can check our answer using [SymPy](http://www.sympy.org/en/index.html)"
   ]
  },
  {
   "cell_type": "code",
   "execution_count": 1,
   "metadata": {},
   "outputs": [],
   "source": [
    "from sympy import symbols, diff, sin, cos, sqrt, simplify, init_printing"
   ]
  },
  {
   "cell_type": "code",
   "execution_count": 2,
   "metadata": {},
   "outputs": [],
   "source": [
    "init_printing()\n",
    "x = symbols('x')"
   ]
  },
  {
   "cell_type": "code",
   "execution_count": 3,
   "metadata": {},
   "outputs": [
    {
     "data": {
      "image/png": "[encoded data removed]",
      "text/latex": [
       "$\\displaystyle 4 \\cos{\\left(4 x \\right)}$"
      ],
      "text/plain": [
       "4⋅cos(4⋅x)"
      ]
     },
     "execution_count": 3,
     "metadata": {},
     "output_type": "execute_result"
    }
   ],
   "source": [
    "diff(sin(4 * x))"
   ]
  },
  {
   "cell_type": "markdown",
   "metadata": {},
   "source": [
    "## Examples"
   ]
  },
  {
   "cell_type": "markdown",
   "metadata": {},
   "source": [
    "These and the previous example are taken from James Stewart's *Calculus Early Transcendentals* (Section 3.4, pp. 203)"
   ]
  },
  {
   "cell_type": "markdown",
   "metadata": {},
   "source": [
    "Example 1: Find the derivative of $f(x) = (1 - x^2)^{10}$"
   ]
  },
  {
   "cell_type": "markdown",
   "metadata": {},
   "source": [
    "$$ u = 1 - x^2, \\qquad y = u^{10} $$"
   ]
  },
  {
   "cell_type": "markdown",
   "metadata": {},
   "source": [
    "$$ \\frac{dy}{du} = 10u^9, \\qquad \\frac{du}{dx} = -2x $$"
   ]
  },
  {
   "cell_type": "markdown",
   "metadata": {},
   "source": [
    "$$ \\frac{dy}{dx} = 10(1 - x^2)^9 *( - 2x) = -20x (1 - x^2)^9 $$"
   ]
  },
  {
   "cell_type": "code",
   "execution_count": 4,
   "metadata": {},
   "outputs": [
    {
     "data": {
      "image/png": "[encoded data removed]",
      "text/latex": [
       "$\\displaystyle - 20 x \\left(1 - x^{2}\\right)^{9}$"
      ],
      "text/plain": [
       "              9\n",
       "      ⎛     2⎞ \n",
       "-20⋅x⋅⎝1 - x ⎠ "
      ]
     },
     "execution_count": 4,
     "metadata": {},
     "output_type": "execute_result"
    }
   ],
   "source": [
    "diff((1 - x ** 2) ** 10)"
   ]
  },
  {
   "cell_type": "markdown",
   "metadata": {},
   "source": [
    "Example 2: Find the derivative of $f(x) = e^{\\sqrt{x}}$"
   ]
  },
  {
   "cell_type": "markdown",
   "metadata": {},
   "source": [
    "$$ y = e^{\\sqrt{u}}, \\qquad u = \\sqrt{x} $$"
   ]
  },
  {
   "cell_type": "markdown",
   "metadata": {},
   "source": [
    "$$ \\frac{dy}{du} = e^u, \\qquad \\frac{du}{dx} = \\frac{1}{2}x^{-\\frac{1}{2}} = \\frac{1}{2\\sqrt{x}} $$"
   ]
  },
  {
   "cell_type": "markdown",
   "metadata": {},
   "source": [
    "$$ \\frac{dy}{dx} = e^{\\sqrt{x}} * \\frac{1}{2\\sqrt{x}} = \\frac{e^{\\sqrt{x}}}{2\\sqrt{x}} $$"
   ]
  },
  {
   "cell_type": "markdown",
   "metadata": {},
   "source": [
    "Import the constant e from the mpmath library in order for SymPy to calculate the derivative."
   ]
  },
  {
   "cell_type": "code",
   "execution_count": 14,
   "metadata": {
    "collapsed": true
   },
   "outputs": [],
   "source": [
    "from mpmath import e"
   ]
  },
  {
   "cell_type": "code",
   "execution_count": 13,
   "metadata": {},
   "outputs": [
    {
     "data": {
      "image/png": "[encoded data removed]",
      "text/latex": [
       "$$\\frac{0.5}{\\sqrt{x}} 2.71828182845905^{\\sqrt{x}}$$"
      ],
      "text/plain": [
       "                    √x\n",
       "0.5⋅2.71828182845905  \n",
       "──────────────────────\n",
       "          √x          "
      ]
     },
     "execution_count": 13,
     "metadata": {},
     "output_type": "execute_result"
    }
   ],
   "source": [
    "diff(e ** sqrt(x))"
   ]
  },
  {
   "cell_type": "markdown",
   "metadata": {},
   "source": [
    "Example 3: Find the derivative of $f(x) = \\sqrt[4]{1 + 2x + x^3}$"
   ]
  },
  {
   "cell_type": "markdown",
   "metadata": {},
   "source": [
    "$$ u = 1 + 2x + x^3, \\qquad y = u^\\frac{1}{4} $$"
   ]
  },
  {
   "cell_type": "markdown",
   "metadata": {},
   "source": [
    "$$ \\frac{du}{dx} = 3x^2 + 2, \\qquad \\frac{dy}{du} = \\frac{1}{4} u^{-\\frac{3}{4}} =  \\frac{3}{4\\sqrt{u}} $$"
   ]
  },
  {
   "cell_type": "markdown",
   "metadata": {},
   "source": [
    "$$ \\frac{dy}{dx} = \\frac{3x + 2}{4 (1 + 2x + x^3)^\\frac{3}{4}} $$"
   ]
  },
  {
   "cell_type": "code",
   "execution_count": 16,
   "metadata": {},
   "outputs": [
    {
     "data": {
      "image/png": "[encoded data removed]",
      "text/latex": [
       "$$\\frac{0.75 x^{2} + 0.5}{\\left(x^{3} + 2 x + 1\\right)^{0.75}}$$"
      ],
      "text/plain": [
       "                              -0.75\n",
       "⎛      2      ⎞ ⎛ 3          ⎞     \n",
       "⎝0.75⋅x  + 0.5⎠⋅⎝x  + 2⋅x + 1⎠     "
      ]
     },
     "execution_count": 16,
     "metadata": {},
     "output_type": "execute_result"
    }
   ],
   "source": [
    "diff((1 + 2 * x + x ** 3) ** (1/4))"
   ]
  },
  {
   "cell_type": "markdown",
   "metadata": {},
   "source": [
    "Example 4: Find the derivative of $f(x) = \\frac{1}{(t^4 + 1)^3}$"
   ]
  },
  {
   "cell_type": "markdown",
   "metadata": {},
   "source": [
    "$$ u = t^4 + 1, \\qquad y = \\frac{1}{u^3} = u^{-3} $$"
   ]
  },
  {
   "cell_type": "markdown",
   "metadata": {},
   "source": [
    "$$ \\frac{du}{dt} = 4t^3, \\qquad \\frac{dy}{du} = u^{-3} = -3u^{-4} = -\\frac{3}{u^4} $$"
   ]
  },
  {
   "cell_type": "markdown",
   "metadata": {},
   "source": [
    "$$ \\frac{dy}{dx} = 4t^3 * -\\frac{3}{(t^4 + 1)^4} = -\\frac{12t^3}{(t^4 + 1)^4} $$"
   ]
  },
  {
   "cell_type": "code",
   "execution_count": 17,
   "metadata": {},
   "outputs": [
    {
     "data": {
      "image/png": "[encoded data removed]",
      "text/latex": [
       "$$- \\frac{12 x^{3}}{\\left(x^{4} + 1\\right)^{4}}$$"
      ],
      "text/plain": [
       "      3  \n",
       " -12⋅x   \n",
       "─────────\n",
       "        4\n",
       "⎛ 4    ⎞ \n",
       "⎝x  + 1⎠ "
      ]
     },
     "execution_count": 17,
     "metadata": {},
     "output_type": "execute_result"
    }
   ],
   "source": [
    "diff(1 / (x ** 4 + 1) ** 3)"
   ]
  },
  {
   "cell_type": "markdown",
   "metadata": {},
   "source": [
    "Example 5: Find the derivative of $f(x) = \\cos{(a^3 + x^3)}$"
   ]
  },
  {
   "cell_type": "markdown",
   "metadata": {},
   "source": [
    "$$ u = a^3 + x^3, \\qquad y = \\cos{u} $$"
   ]
  },
  {
   "cell_type": "markdown",
   "metadata": {},
   "source": [
    "$$ \\frac{du}{dx} = 3x^2, \\qquad \\frac{dy}{du} = -\\sin{u} $$"
   ]
  },
  {
   "cell_type": "markdown",
   "metadata": {},
   "source": [
    "$$ \\frac{dy}{dx} = -3x^2 \\sin{a^3 + x^3} $$"
   ]
  },
  {
   "cell_type": "code",
   "execution_count": 19,
   "metadata": {
    "collapsed": true
   },
   "outputs": [],
   "source": [
    "a = symbols('a') # define a variable that we'll treat as constant"
   ]
  },
  {
   "cell_type": "markdown",
   "metadata": {},
   "source": [
    "Because there is more than variable, must specify which we're interested in for SymPy to compute the derivative."
   ]
  },
  {
   "cell_type": "code",
   "execution_count": 22,
   "metadata": {},
   "outputs": [
    {
     "data": {
      "image/png": "[encoded data removed]",
      "text/latex": [
       "$$- 3 x^{2} \\sin{\\left (a^{3} + x^{3} \\right )}$$"
      ],
      "text/plain": [
       "    2    ⎛ 3    3⎞\n",
       "-3⋅x ⋅sin⎝a  + x ⎠"
      ]
     },
     "execution_count": 22,
     "metadata": {},
     "output_type": "execute_result"
    }
   ],
   "source": [
    "diff(cos(a ** 3 + x ** 3), x)"
   ]
  },
  {
   "cell_type": "markdown",
   "metadata": {},
   "source": [
    "## References"
   ]
  },
  {
   "cell_type": "markdown",
   "metadata": {},
   "source": [
    "Stewart, J. (2007). Essential calculus: Early transcendentals. Belmont, CA: Thomson Higher Education.\n",
    "\n",
    "Strang, G. (2010). Calculus. Wellesley, MA: Wellesley-Cambridge."
   ]
  }
 ],
 "metadata": {
  "kernelspec": {
   "display_name": "Python 3",
   "language": "python",
   "name": "python3"
  },
  "language_info": {
   "codemirror_mode": {
    "name": "ipython",
    "version": 3
   },
   "file_extension": ".py",
   "mimetype": "text/x-python",
   "name": "python",
   "nbconvert_exporter": "python",
   "pygments_lexer": "ipython3",
   "version": "3.7.7"
  }
 },
 "nbformat": 4,
 "nbformat_minor": 2
}
