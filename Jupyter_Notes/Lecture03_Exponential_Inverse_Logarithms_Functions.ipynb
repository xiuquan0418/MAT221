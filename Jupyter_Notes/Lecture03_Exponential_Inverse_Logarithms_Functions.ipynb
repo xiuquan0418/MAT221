{
 "cells": [
  {
   "cell_type": "markdown",
   "metadata": {},
   "source": [
    "# MAT 221 Calculus I\n",
    "\n",
    "## April 9, 2020\n",
    "\n",
    "Today's Agenda:\n",
    "1. Exponential Functions\n",
    "2. Inverse Functions\n",
    "3. Logarithm Functions\n",
    "4. Exercises"
   ]
  },
  {
   "cell_type": "code",
   "execution_count": null,
   "metadata": {},
   "outputs": [],
   "source": []
  }
 ],
 "metadata": {
  "kernelspec": {
   "display_name": "Python 3",
   "language": "python",
   "name": "python3"
  },
  "language_info": {
   "codemirror_mode": {
    "name": "ipython",
    "version": 3
   },
   "file_extension": ".py",
   "mimetype": "text/x-python",
   "name": "python",
   "nbconvert_exporter": "python",
   "pygments_lexer": "ipython3",
   "version": "3.7.7"
  }
 },
 "nbformat": 4,
 "nbformat_minor": 4
}
