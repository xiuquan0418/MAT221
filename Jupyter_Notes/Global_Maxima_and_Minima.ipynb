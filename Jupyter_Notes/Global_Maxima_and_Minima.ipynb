{
 "cells": [
  {
   "cell_type": "markdown",
   "metadata": {
    "slideshow": {
     "slide_type": "slide"
    }
   },
   "source": [
    "# MAT 221 Calculus I\n",
    "\n",
    "## April 9, 2020\n",
    "\n",
    "Today's Agenda:\n",
    "1. Finding Globle (or Absolute) Maxima and Minima\n",
    "2. \n",
    "3. Exercises"
   ]
  },
  {
   "cell_type": "markdown",
   "metadata": {},
   "source": [
    "## Terninology"
   ]
  },
  {
   "cell_type": "markdown",
   "metadata": {},
   "source": [
    "<img src=\"images/Local_Global_Extrema.png\" alt=\"Drawing\" style=\"width: 400px;\"/>"
   ]
  },
  {
   "cell_type": "markdown",
   "metadata": {},
   "source": [
    "<img src=\"images/NumberLine_1.png\" alt=\"Drawing\" style=\"width: 400px;\"/>"
   ]
  },
  {
   "cell_type": "markdown",
   "metadata": {},
   "source": [
    "### Absolute/Global Maximimum"
   ]
  },
  {
   "cell_type": "markdown",
   "metadata": {},
   "source": [
    "**Definition:**  $f(x)$ has an absolute (or global) maximum at $x=c$ if $f(x) \\geq f(c)$ for every $x$ in the domain we are working on. <br>\n",
    "**i.e.** King of the World (Highest point anywhere)"
   ]
  },
  {
   "cell_type": "markdown",
   "metadata": {},
   "source": [
    "### Relative/Local Maximimum"
   ]
  },
  {
   "cell_type": "markdown",
   "metadata": {},
   "source": [
    "**Definition:**  $f(x)$ has an absolute (or global) maximum at $x=c$ if $f(x) \\leq f(c)$ for every $x$ in some open interval around $x=c$. <br>\n",
    "**i.e.** King of the Hill (Highest point in some neighborhood around it)"
   ]
  },
  {
   "cell_type": "markdown",
   "metadata": {
    "slideshow": {
     "slide_type": "slide"
    }
   },
   "source": [
    "**Examples:**\n",
    "* $f(x)=\\frac{1}{x}$ on $[2,5]$\n",
    "* $f(x)=\\frac{1}{x}$ on $(2,5)$\n",
    "* $f(x)=\\frac{1}{x}$ on $[-1,1]$\n",
    "* $f(x)=\\sin{x}$ on $[0,2\\pi]$"
   ]
  },
  {
   "cell_type": "markdown",
   "metadata": {
    "slideshow": {
     "slide_type": "slide"
    }
   },
   "source": [
    "## Finding Absolute (or Globle) Maxima and Minima\n",
    "\n",
    "We will consider <br> \n",
    "* $\\textbf{Continuous Function}$ (i.e., no holes or breaks or jumps in their graphs) on <br>\n",
    "* $\\textbf{Closed Intervals}$ (i.e. $a \\leq x \\leq b$ or $[a, b]$ versus $a < x < b$ or $(a, b)$).\n"
   ]
  },
  {
   "cell_type": "markdown",
   "metadata": {
    "slideshow": {
     "slide_type": "slide"
    }
   },
   "source": [
    "We will looking for the following: <br>\n",
    "1. The global (or absolute) maximum value of $f$, <br>\n",
    "which may be achieved at one or more locations in the graph of $y=f(x)$ on $[a, b]$.\n",
    "2. The global (or absolute) minimum value of $f$, <br>\n",
    "which may be achieved at one or more locations in the graph of $y=f(x)$ on $[a, b]$."
   ]
  },
  {
   "cell_type": "markdown",
   "metadata": {
    "slideshow": {
     "slide_type": "slide"
    }
   },
   "source": [
    "**Extreme Value Theorem.** <br>\n",
    "Let $f$ be a continuous function on the closed interval $[a, b]$. Then we are guaranteed an $\\textbf{A. Max}$ value and an $\\textbf{A. Max}$ values."
   ]
  },
  {
   "cell_type": "markdown",
   "metadata": {},
   "source": [
    "<img src=\"images/Cont_F_on_Closed_Int.png\" alt=\"Drawing\" style=\"width: 300px;\"/>"
   ]
  },
  {
   "cell_type": "markdown",
   "metadata": {
    "slideshow": {
     "slide_type": "slide"
    }
   },
   "source": [
    "### Rule of Thumb"
   ]
  },
  {
   "cell_type": "markdown",
   "metadata": {
    "slideshow": {
     "slide_type": "fragment"
    }
   },
   "source": [
    "\n",
    "1. Global maximum value of $f$ \n",
    "   * will occur at one (or more) of the local maxima of $f$ or at one (or both) of the endpoints, $x=a$ and $x=b$."
   ]
  },
  {
   "cell_type": "markdown",
   "metadata": {
    "slideshow": {
     "slide_type": "fragment"
    }
   },
   "source": [
    "2. Global minimum value of $f$ \n",
    "   * will occur at one (or more) of the local minima of $f$ or at one (or both) of the endpoints, $x=a$ and $x=b$."
   ]
  },
  {
   "cell_type": "markdown",
   "metadata": {
    "slideshow": {
     "slide_type": "slide"
    }
   },
   "source": [
    "**Example.**"
   ]
  },
  {
   "cell_type": "markdown",
   "metadata": {
    "slideshow": {
     "slide_type": "subslide"
    }
   },
   "source": [
    "<img src=\"images/Global_Max_Min_Part_I.png\" alt=\"Drawing\" style=\"width: 600px;\"/>"
   ]
  },
  {
   "cell_type": "markdown",
   "metadata": {
    "slideshow": {
     "slide_type": "subslide"
    }
   },
   "source": [
    "<img src=\"images/Global_Max_Min_Part_II.png\" alt=\"Drawing\" style=\"width: 600px;\"/>"
   ]
  },
  {
   "cell_type": "markdown",
   "metadata": {
    "slideshow": {
     "slide_type": "slide"
    }
   },
   "source": [
    "We are given a recipe to find location of global max and min of $f$ when $f$ is continuous on a closed interval $[a, b]$"
   ]
  },
  {
   "cell_type": "markdown",
   "metadata": {
    "slideshow": {
     "slide_type": "subslide"
    }
   },
   "source": [
    "#### Recipe"
   ]
  },
  {
   "cell_type": "markdown",
   "metadata": {
    "slideshow": {
     "slide_type": "subslide"
    }
   },
   "source": [
    "**Step 1** <br>\n",
    "Find all critical points of $f(x)$: <br>\n",
    "When $f^{\\prime}(x)=0$ (or $f^{\\prime}(x)=\\infty$) <br>\n",
    "Optional: Determine if critical points correspond to local max and/or min."
   ]
  },
  {
   "cell_type": "markdown",
   "metadata": {
    "slideshow": {
     "slide_type": "fragment"
    }
   },
   "source": [
    "**Step 2** <br>\n",
    "Evaluate $f(x)$ at $\\textbf{Every}$ critical point $\\textbf{And}$ at $\\textbf{Both}$ endpoints $(x=a, x=b)$"
   ]
  },
  {
   "cell_type": "markdown",
   "metadata": {
    "slideshow": {
     "slide_type": "fragment"
    }
   },
   "source": [
    "**Step 3** <br>\n",
    "Global max value $=$ Largest value of $f(x)$ from **Step 2** <br>\n",
    "Global min value $=$ Smallest value of $f(x)$ from **Step 2**"
   ]
  },
  {
   "cell_type": "markdown",
   "metadata": {},
   "source": [
    "Find absolut (global) max/min values of $$f(x=x^{3}-12x+1) \\  \\  \\ \\text{ on } [-3, 5]$$"
   ]
  },
  {
   "cell_type": "markdown",
   "metadata": {},
   "source": [
    "**Note:** $f(x) = \\text{ polynomial } \\Rightarrow f(x) \\text{ is continuous on } (-\\infty, \\infty) \\Rightarrow  f(x) \\text{ is certainly continous on } [-3, 5]$."
   ]
  },
  {
   "cell_type": "markdown",
   "metadata": {},
   "source": [
    "**Step 1** Critical Points: <br>\n",
    "$f^{\\prime}(x) = 3x^{2}-12$\n"
   ]
  },
  {
   "cell_type": "code",
   "execution_count": null,
   "metadata": {},
   "outputs": [],
   "source": []
  }
 ],
 "metadata": {
  "celltoolbar": "Slideshow",
  "kernelspec": {
   "display_name": "Python 3",
   "language": "python",
   "name": "python3"
  },
  "language_info": {
   "codemirror_mode": {
    "name": "ipython",
    "version": 3
   },
   "file_extension": ".py",
   "mimetype": "text/x-python",
   "name": "python",
   "nbconvert_exporter": "python",
   "pygments_lexer": "ipython3",
   "version": "3.7.7"
  },
  "rise": {
   "enable_chalkboard": true
  },
  "tags": [
   "hide_input",
   "hide_output"
  ]
 },
 "nbformat": 4,
 "nbformat_minor": 1
}
